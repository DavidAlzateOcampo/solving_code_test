{
 "cells": [
  {
   "cell_type": "markdown",
   "metadata": {},
   "source": [
    "#### 2. Longest Substring Without Repeating Characters\n",
    "\n",
    "Given a string s, find the length of the longest substring without repeating characters.\n",
    "\n",
    "Below is my solution, which that it might have a complexity of O(N log(n)) which is not the most efficient. "
   ]
  },
  {
   "cell_type": "code",
   "execution_count": 1,
   "metadata": {},
   "outputs": [],
   "source": [
    "def lengthOfLongestSubstring( s: str ) -> int:\n",
    "    if len(s) <= 1:\n",
    "        return len(s)\n",
    "    visited = set()\n",
    "    left = 0\n",
    "    right = 0\n",
    "    maxLen = 0\n",
    "    while right < len(s):\n",
    "        if s[right] not in visited:\n",
    "            visited.add(s[right])   \n",
    "        else:\n",
    "            while s[right] in visited:\n",
    "                visited.remove(s[left])\n",
    "                left += 1\n",
    "            visited.add(s[right])\n",
    "        maxLen = max(maxLen, right - left + 1)\n",
    "        right += 1\n",
    "            \n",
    "    return maxLen"
   ]
  },
  {
   "cell_type": "code",
   "execution_count": 2,
   "metadata": {},
   "outputs": [
    {
     "data": {
      "text/plain": [
       "5"
      ]
     },
     "execution_count": 2,
     "metadata": {},
     "output_type": "execute_result"
    }
   ],
   "source": [
    "lengthOfLongestSubstring('wpkwekplpw')"
   ]
  },
  {
   "cell_type": "markdown",
   "metadata": {},
   "source": [
    "#### Solution 2 from https://www.youtube.com/watch?v=iCFsi3d8cG0 \n",
    "This solution is faster due to complexity. O(n)"
   ]
  },
  {
   "cell_type": "code",
   "execution_count": 3,
   "metadata": {},
   "outputs": [],
   "source": [
    "def lengthOfLongestSubstring( s: str) -> int:\n",
    "    if len(s) <= 1:\n",
    "        return len(s)\n",
    "    pos_dict = {}\n",
    "    l =  res = 0\n",
    "    for r, char in enumerate(s):\n",
    "        if char in pos_dict:\n",
    "            if pos_dict[char] >= l:\n",
    "                l = pos_dict[char] + 1\n",
    "        \n",
    "        res = max( res, r - l + 1)\n",
    "        pos_dict[char] = r\n",
    "    return res"
   ]
  },
  {
   "cell_type": "code",
   "execution_count": 4,
   "metadata": {},
   "outputs": [
    {
     "data": {
      "text/plain": [
       "5"
      ]
     },
     "execution_count": 4,
     "metadata": {},
     "output_type": "execute_result"
    }
   ],
   "source": [
    "lengthOfLongestSubstring('wpkwekplpw')"
   ]
  }
 ],
 "metadata": {
  "kernelspec": {
   "display_name": "Python 3",
   "language": "python",
   "name": "python3"
  },
  "language_info": {
   "codemirror_mode": {
    "name": "ipython",
    "version": 3
   },
   "file_extension": ".py",
   "mimetype": "text/x-python",
   "name": "python",
   "nbconvert_exporter": "python",
   "pygments_lexer": "ipython3",
   "version": "3.10.10"
  }
 },
 "nbformat": 4,
 "nbformat_minor": 2
}
