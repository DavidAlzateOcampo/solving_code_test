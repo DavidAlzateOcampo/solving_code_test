{
 "cells": [
  {
   "cell_type": "markdown",
   "metadata": {},
   "source": [
    "### Two Sum\n",
    "\n",
    "Given an array of integers nums and an integer target, return indices of the two numbers such that they add up to target.\n",
    "You may assume that each input would have exactly one solution, and you may not use the same element twice.\n",
    "You can return the answer in any order.\n"
   ]
  },
  {
   "cell_type": "markdown",
   "metadata": {},
   "source": [
    "#### Solution 1"
   ]
  },
  {
   "cell_type": "code",
   "execution_count": 1,
   "metadata": {},
   "outputs": [],
   "source": [
    "def twoSum(nums: list[int], target: int) -> list[int]:\n",
    "    \"\"\"Verify which two numbers inside a list when they are sum \n",
    "    the result is the target value, then it retrieves the index\n",
    "    where these two values are inside the list. \n",
    "    Args:\n",
    "        nums (list[int]): list of integer number\n",
    "        target (int): target is the sum of two values inside the list \n",
    "        where: xi + xj = target\n",
    "    Returns:\n",
    "        list[int]: the i and j indexes, corresponding to values from xi, xj \n",
    "    \"\"\"\n",
    "    maxl = len(nums)\n",
    "    for i, n in enumerate(nums):\n",
    "        Temp = n\n",
    "        j = i+1\n",
    "        while j < maxl:\n",
    "            if Temp + nums[j] == target:\n",
    "                l = []\n",
    "                l.append(i)\n",
    "                l.append(j)\n",
    "                return l\n",
    "            else:\n",
    "                j +=1\n"
   ]
  },
  {
   "cell_type": "code",
   "execution_count": 2,
   "metadata": {},
   "outputs": [
    {
     "name": "stdout",
     "output_type": "stream",
     "text": [
      "[2, 3]\n"
     ]
    }
   ],
   "source": [
    "print(twoSum([2,7,11,15],26))"
   ]
  },
  {
   "cell_type": "markdown",
   "metadata": {},
   "source": [
    "#### Solution 2"
   ]
  },
  {
   "cell_type": "code",
   "execution_count": 3,
   "metadata": {},
   "outputs": [],
   "source": [
    "def twoSum(nums: list[int], target: int) -> list[int]:\n",
    "        \"\"\"Verify which two numbers inside a list when they are sum \n",
    "the result is the target value, then it retrieves the index\n",
    "where these two values are inside the list. \n",
    "Args:\n",
    "        nums (list[int]): list of integer number\n",
    "        target (int): target is the sum of two values inside the list \n",
    "        where: xi + xj = target\n",
    "Returns:\n",
    "        list[int]: the i and j indexes, corresponding to values from xi, xj \n",
    "        \"\"\"\n",
    "        temp = {}\n",
    "        for i, xi in enumerate(nums):\n",
    "                xj = target - xi\n",
    "                if temp.get(xj) is not None:\n",
    "                        return [temp.get(xj),i]\n",
    "                temp[xi] = i"
   ]
  },
  {
   "cell_type": "code",
   "execution_count": 4,
   "metadata": {},
   "outputs": [
    {
     "name": "stdout",
     "output_type": "stream",
     "text": [
      "[2, 3]\n"
     ]
    }
   ],
   "source": [
    "print(twoSum([2,7,11,15],26))"
   ]
  }
 ],
 "metadata": {
  "kernelspec": {
   "display_name": "Python 3",
   "language": "python",
   "name": "python3"
  },
  "language_info": {
   "codemirror_mode": {
    "name": "ipython",
    "version": 3
   },
   "file_extension": ".py",
   "mimetype": "text/x-python",
   "name": "python",
   "nbconvert_exporter": "python",
   "pygments_lexer": "ipython3",
   "version": "3.10.10"
  }
 },
 "nbformat": 4,
 "nbformat_minor": 2
}
