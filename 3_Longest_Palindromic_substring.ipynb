{
 "cells": [
  {
   "cell_type": "markdown",
   "metadata": {},
   "source": [
    "#### 3. Longest Palindromic Substring\n",
    "Given a string s, return the longest palindromic substring in s. \n",
    "\n",
    "**Example 1**:\n",
    "\n",
    "Input: s = \"babad\"\n",
    "Output: \"bab\"\n",
    "Explanation: \"aba\" is also a valid answer.\n",
    "\n",
    "**Example 2**:\n",
    "\n",
    "Input: s = \"cbbd\"\n",
    "Output: \"bb\"\n",
    "\n",
    "\n",
    "**Constraints**:\n",
    "\n",
    "1 <= s.length <= 1000\n",
    "s consist of only digits and English letters."
   ]
  },
  {
   "cell_type": "markdown",
   "metadata": {},
   "source": [
    "#### Solution 1\n",
    "\n",
    "A naive approach with o(n^2) time complexity and o(1) for space complexity. \n",
    "The solution is based to expand the substring from every character of the string, then check if it's palindrome.\n"
   ]
  },
  {
   "cell_type": "code",
   "execution_count": 1,
   "metadata": {},
   "outputs": [],
   "source": [
    "def longestPalindrome(s: str) -> str:\n",
    "    pal = \"\"            \n",
    "    palL = 0          \n",
    "    \n",
    "    for i in range(len(s)):\n",
    "        l, r = i, i         \n",
    "        while l >= 0 and r < len(s) and s[l] == s[r]:\n",
    "            if (r - l + 1) > palL:\n",
    "                pal = s[l : r + 1]      \n",
    "                palL = r - l + 1      \n",
    "            l -= 1          \n",
    "            r += 1\n",
    "\n",
    "        l, r = i, i + 1     \n",
    "        while l >= 0 and r < len(s) and s[l] == s[r]:\n",
    "            if (r - l + 1) > palL:\n",
    "                pal = s[l : r + 1]      \n",
    "                palL = r - l + 1      \n",
    "            l -= 1          \n",
    "            r += 1\n",
    "    return pal"
   ]
  },
  {
   "cell_type": "code",
   "execution_count": 2,
   "metadata": {},
   "outputs": [
    {
     "data": {
      "text/plain": [
       "'bab'"
      ]
     },
     "execution_count": 2,
     "metadata": {},
     "output_type": "execute_result"
    }
   ],
   "source": [
    "longestPalindrome(\"babad\")"
   ]
  },
  {
   "cell_type": "code",
   "execution_count": 3,
   "metadata": {},
   "outputs": [
    {
     "data": {
      "text/plain": [
       "'bb'"
      ]
     },
     "execution_count": 3,
     "metadata": {},
     "output_type": "execute_result"
    }
   ],
   "source": [
    "longestPalindrome(\"cbbd\")"
   ]
  },
  {
   "cell_type": "markdown",
   "metadata": {},
   "source": [
    "#### Solution 2\n",
    "\n",
    "Using the Manacher's algorithm that has a Time complexity o(n) and Space complexity o(n).\n",
    "\n",
    "Manacher's algorithm works by taking advantage of the symmetrical nature of palindromes. \n",
    "The transformation allows to process without looking at the even and odd lengths.\n",
    "That helps to avoid redundant verification by using the info from previously palindromes\n",
    "\n",
    "The innovation from Manacher's algo is that changes the algo from a quadratic to a linear time problem.\n",
    "The tradeoff, it that needs to store the previous values calculated."
   ]
  },
  {
   "cell_type": "code",
   "execution_count": 4,
   "metadata": {},
   "outputs": [],
   "source": [
    "def longestPalindrome( s: str) -> str:\n",
    "    Transformation = '#'.join('^{}$'.format(s))\n",
    "    lenTransformed = len(Transformation)\n",
    "    PalLenList = [0] * lenTransformed\n",
    "    \n",
    "    C = R = 0\n",
    "    \n",
    "    for i in range(1, lenTransformed-1):\n",
    "        PalLenList[i] = (R > i) and min(R - i, PalLenList[2*C - i])\n",
    "        while Transformation[i + 1 + PalLenList[i]] == Transformation[i - 1 - PalLenList[i]]:\n",
    "            PalLenList[i] += 1\n",
    "        \n",
    "        if i + PalLenList[i] > R:\n",
    "            C, R = i, i + PalLenList[i]\n",
    "    max_len, center_index = max((n, i) for i, n in enumerate(PalLenList))\n",
    "    return s[(center_index - max_len) // 2: (center_index + max_len) // 2]"
   ]
  },
  {
   "cell_type": "code",
   "execution_count": 5,
   "metadata": {},
   "outputs": [
    {
     "data": {
      "text/plain": [
       "'aba'"
      ]
     },
     "execution_count": 5,
     "metadata": {},
     "output_type": "execute_result"
    }
   ],
   "source": [
    "longestPalindrome(\"babad\")"
   ]
  }
 ],
 "metadata": {
  "kernelspec": {
   "display_name": "Python 3",
   "language": "python",
   "name": "python3"
  },
  "language_info": {
   "codemirror_mode": {
    "name": "ipython",
    "version": 3
   },
   "file_extension": ".py",
   "mimetype": "text/x-python",
   "name": "python",
   "nbconvert_exporter": "python",
   "pygments_lexer": "ipython3",
   "version": "3.10.10"
  }
 },
 "nbformat": 4,
 "nbformat_minor": 2
}
